{
 "cells": [
  {
   "cell_type": "markdown",
   "id": "cd43e6f5",
   "metadata": {
    "papermill": {
     "duration": 0.016383,
     "end_time": "2022-07-29T07:35:05.184899",
     "exception": false,
     "start_time": "2022-07-29T07:35:05.168516",
     "status": "completed"
    },
    "tags": []
   },
   "source": [
    "## **Project Purpose**\n",
    "> The purpose of this project is to identify which patients are more likely to be classified as those who need to urgently get into the ICU."
   ]
  },
  {
   "cell_type": "markdown",
   "id": "32b34d96",
   "metadata": {
    "papermill": {
     "duration": 0.015003,
     "end_time": "2022-07-29T07:35:05.215203",
     "exception": false,
     "start_time": "2022-07-29T07:35:05.200200",
     "status": "completed"
    },
    "tags": []
   },
   "source": [
    "### **Data Dictionary:**\n",
    "   1. **id:** The identification number of the patient.\n",
    "   2. **sex:** Identify gender of the patient, 1 as female and 2 as male.\n",
    "   3. **patient_type:** Type of patient, 1 for not hospitalized and 2 for hosptalized.\n",
    "   4. **entry_date:** The date that the patient went to the hospital.\n",
    "   5. **date_symptoms:** The date that the patient started to show symptoms.\n",
    "   6. **date_died:** The date that the patient died, “9999-99-99” stands for recovered.\n",
    "   7. **intubed:** Intubation is a procedure that’s used when you can’t breathe on your own.“1” denotes that the patient used ventilator and “2” denotes that the patient did not, “97” “98” “99” means not specified.\n",
    "   8. **pneumonia:** Indicates whether the patient already have air sacs inflammation or not “1” for yes, “2” for no, “97” “98” “99” means not specified.\n",
    "   9. **age:** Specifies the age of the patient.\n",
    "   10. **pregnancy:** Indicates whether the patient is pregnant or not, “1” for yes, “2” for no, “97” “98” “99” means not specified.\n",
    "   11. **diabetes:** Indicates whether the patient has diabetes or not, “1” for yes, “2” for no, “97” “98” “99” means not specified.\n",
    "   12. **copd:** Indicates whether the patient has Chronic obstructive pulmonary disease (COPD) or not, “1” for yes, “2” for no, “97” “98” “99” means not specified.\n",
    "   13. **asthma:** Indiactes whether the patient has asthma or not, “1” for yes, “2” for no, “97” “98” “99” means not specified.\n",
    "   14. **inmsupr:** Indicates whether the patient is immunosuppressed or not, “1” for yes, “2” for no, “97” “98” “99” means not specified.\n",
    "   15. **hypertension:** Indicates whether the patient has hypertension or not, “1” for yes, “2” for no, “97” “98” “99” means not specified.\n",
    "   16. **other_disease:** Indicates whether the patient has other disease or not, “1” for yes, “2” for no, “97” “98” “99” means not specified.\n",
    "   17. **cardiovascular:** Indicates whether if the patient has heart or blood vessels realted disease, “1” for yes, “2” for no, “97” “98” “99” means not specified.\n",
    "   18. **obesity:** Indicates whether the patient is obese or not, “1” for yes, “2” for no, “97” “98” “99” means not specified.\n",
    "   19. **renal_chronic:** Indicates whether the patient has chronic renal disease or not, “1” for yes, “2” for no, “97” “98” “99” means not specified.\n",
    "   20. **tobacco:** Indicates whether if the patient is a tobacco user, “1” for yes, “2” for no, “97” “98” “99” means not specified.\n",
    "   21. **contact_other_covid:** Indicates whether if the patient has contacted another covid19 patient.\n",
    "   22. **icu:** Indicates whether the if the patient had been admitted to an Intensive Care Unit (ICU), “1” for yes, “2” for no, “97” “98” “99” means not specified.\n",
    "   23. **covid_res:** 1 indicates person is covid +ve, 2 indicates person is covide -ve, 3 indicates result is in awaiting process."
   ]
  },
  {
   "cell_type": "markdown",
   "id": "3ba3e818",
   "metadata": {
    "papermill": {
     "duration": 0.014079,
     "end_time": "2022-07-29T07:35:05.244022",
     "exception": false,
     "start_time": "2022-07-29T07:35:05.229943",
     "status": "completed"
    },
    "tags": []
   },
   "source": [
    "### **Importing Models and Libraries**"
   ]
  },
  {
   "cell_type": "code",
   "execution_count": 1,
   "id": "166330a6",
   "metadata": {
    "_cell_guid": "b1076dfc-b9ad-4769-8c92-a6c4dae69d19",
    "_uuid": "8f2839f25d086af736a60e9eeb907d3b93b6e0e5",
    "execution": {
     "iopub.execute_input": "2022-07-29T07:35:05.277645Z",
     "iopub.status.busy": "2022-07-29T07:35:05.276207Z",
     "iopub.status.idle": "2022-07-29T07:35:07.350589Z",
     "shell.execute_reply": "2022-07-29T07:35:07.349334Z"
    },
    "papermill": {
     "duration": 2.094714,
     "end_time": "2022-07-29T07:35:07.353606",
     "exception": false,
     "start_time": "2022-07-29T07:35:05.258892",
     "status": "completed"
    },
    "tags": []
   },
   "outputs": [],
   "source": [
    "import numpy as np\n",
    "import pandas as pd\n",
    "import seaborn as sns\n",
    "import warnings\n",
    "pd.set_option('display.max_columns', None)\n",
    "warnings.filterwarnings('ignore')\n",
    "from sklearn.preprocessing import StandardScaler\n",
    "from imblearn.over_sampling import SMOTE\n",
    "from sklearn.model_selection import train_test_split\n",
    "from sklearn.metrics import accuracy_score, confusion_matrix, classification_report\n",
    "from sklearn.ensemble import RandomForestClassifier, GradientBoostingClassifier\n",
    "from sklearn.linear_model import LogisticRegression\n",
    "from sklearn.neighbors import KNeighborsClassifier\n",
    "from sklearn.tree import DecisionTreeClassifier\n",
    "from xgboost import XGBClassifier"
   ]
  },
  {
   "cell_type": "markdown",
   "id": "7afbbd76",
   "metadata": {
    "papermill": {
     "duration": 0.014225,
     "end_time": "2022-07-29T07:35:07.382586",
     "exception": false,
     "start_time": "2022-07-29T07:35:07.368361",
     "status": "completed"
    },
    "tags": []
   },
   "source": [
    "### **Importing Dataset**"
   ]
  },
  {
   "cell_type": "code",
   "execution_count": 2,
   "id": "8165eb95",
   "metadata": {
    "execution": {
     "iopub.execute_input": "2022-07-29T07:35:07.414851Z",
     "iopub.status.busy": "2022-07-29T07:35:07.414434Z",
     "iopub.status.idle": "2022-07-29T07:35:09.636517Z",
     "shell.execute_reply": "2022-07-29T07:35:09.635338Z"
    },
    "papermill": {
     "duration": 2.241979,
     "end_time": "2022-07-29T07:35:09.638947",
     "exception": false,
     "start_time": "2022-07-29T07:35:07.396968",
     "status": "completed"
    },
    "tags": []
   },
   "outputs": [
    {
     "data": {
      "text/html": [
       "<div>\n",
       "<style scoped>\n",
       "    .dataframe tbody tr th:only-of-type {\n",
       "        vertical-align: middle;\n",
       "    }\n",
       "\n",
       "    .dataframe tbody tr th {\n",
       "        vertical-align: top;\n",
       "    }\n",
       "\n",
       "    .dataframe thead th {\n",
       "        text-align: right;\n",
       "    }\n",
       "</style>\n",
       "<table border=\"1\" class=\"dataframe\">\n",
       "  <thead>\n",
       "    <tr style=\"text-align: right;\">\n",
       "      <th></th>\n",
       "      <th>id</th>\n",
       "      <th>sex</th>\n",
       "      <th>patient_type</th>\n",
       "      <th>entry_date</th>\n",
       "      <th>date_symptoms</th>\n",
       "      <th>date_died</th>\n",
       "      <th>intubed</th>\n",
       "      <th>pneumonia</th>\n",
       "      <th>age</th>\n",
       "      <th>pregnancy</th>\n",
       "      <th>diabetes</th>\n",
       "      <th>copd</th>\n",
       "      <th>asthma</th>\n",
       "      <th>inmsupr</th>\n",
       "      <th>hypertension</th>\n",
       "      <th>other_disease</th>\n",
       "      <th>cardiovascular</th>\n",
       "      <th>obesity</th>\n",
       "      <th>renal_chronic</th>\n",
       "      <th>tobacco</th>\n",
       "      <th>contact_other_covid</th>\n",
       "      <th>covid_res</th>\n",
       "      <th>icu</th>\n",
       "    </tr>\n",
       "  </thead>\n",
       "  <tbody>\n",
       "    <tr>\n",
       "      <th>0</th>\n",
       "      <td>16169f</td>\n",
       "      <td>2</td>\n",
       "      <td>1</td>\n",
       "      <td>2020-04-05</td>\n",
       "      <td>2020-02-05</td>\n",
       "      <td>9999-99-99</td>\n",
       "      <td>97</td>\n",
       "      <td>2</td>\n",
       "      <td>27</td>\n",
       "      <td>97</td>\n",
       "      <td>2</td>\n",
       "      <td>2</td>\n",
       "      <td>2</td>\n",
       "      <td>2</td>\n",
       "      <td>2</td>\n",
       "      <td>2</td>\n",
       "      <td>2</td>\n",
       "      <td>2</td>\n",
       "      <td>2</td>\n",
       "      <td>2</td>\n",
       "      <td>2</td>\n",
       "      <td>1</td>\n",
       "      <td>97</td>\n",
       "    </tr>\n",
       "    <tr>\n",
       "      <th>1</th>\n",
       "      <td>1009bf</td>\n",
       "      <td>2</td>\n",
       "      <td>1</td>\n",
       "      <td>2020-03-19</td>\n",
       "      <td>2020-03-17</td>\n",
       "      <td>9999-99-99</td>\n",
       "      <td>97</td>\n",
       "      <td>2</td>\n",
       "      <td>24</td>\n",
       "      <td>97</td>\n",
       "      <td>2</td>\n",
       "      <td>2</td>\n",
       "      <td>2</td>\n",
       "      <td>2</td>\n",
       "      <td>2</td>\n",
       "      <td>2</td>\n",
       "      <td>2</td>\n",
       "      <td>2</td>\n",
       "      <td>2</td>\n",
       "      <td>2</td>\n",
       "      <td>99</td>\n",
       "      <td>1</td>\n",
       "      <td>97</td>\n",
       "    </tr>\n",
       "    <tr>\n",
       "      <th>2</th>\n",
       "      <td>167386</td>\n",
       "      <td>1</td>\n",
       "      <td>2</td>\n",
       "      <td>2020-06-04</td>\n",
       "      <td>2020-01-04</td>\n",
       "      <td>9999-99-99</td>\n",
       "      <td>2</td>\n",
       "      <td>2</td>\n",
       "      <td>54</td>\n",
       "      <td>2</td>\n",
       "      <td>2</td>\n",
       "      <td>2</td>\n",
       "      <td>2</td>\n",
       "      <td>2</td>\n",
       "      <td>2</td>\n",
       "      <td>2</td>\n",
       "      <td>2</td>\n",
       "      <td>1</td>\n",
       "      <td>2</td>\n",
       "      <td>2</td>\n",
       "      <td>99</td>\n",
       "      <td>1</td>\n",
       "      <td>2</td>\n",
       "    </tr>\n",
       "    <tr>\n",
       "      <th>3</th>\n",
       "      <td>0b5948</td>\n",
       "      <td>2</td>\n",
       "      <td>2</td>\n",
       "      <td>2020-04-17</td>\n",
       "      <td>2020-10-04</td>\n",
       "      <td>9999-99-99</td>\n",
       "      <td>2</td>\n",
       "      <td>1</td>\n",
       "      <td>30</td>\n",
       "      <td>97</td>\n",
       "      <td>2</td>\n",
       "      <td>2</td>\n",
       "      <td>2</td>\n",
       "      <td>2</td>\n",
       "      <td>2</td>\n",
       "      <td>2</td>\n",
       "      <td>2</td>\n",
       "      <td>2</td>\n",
       "      <td>2</td>\n",
       "      <td>2</td>\n",
       "      <td>99</td>\n",
       "      <td>1</td>\n",
       "      <td>2</td>\n",
       "    </tr>\n",
       "    <tr>\n",
       "      <th>4</th>\n",
       "      <td>0d01b5</td>\n",
       "      <td>1</td>\n",
       "      <td>2</td>\n",
       "      <td>2020-04-13</td>\n",
       "      <td>2020-04-13</td>\n",
       "      <td>22-04-2020</td>\n",
       "      <td>2</td>\n",
       "      <td>2</td>\n",
       "      <td>60</td>\n",
       "      <td>2</td>\n",
       "      <td>1</td>\n",
       "      <td>2</td>\n",
       "      <td>2</td>\n",
       "      <td>2</td>\n",
       "      <td>1</td>\n",
       "      <td>2</td>\n",
       "      <td>1</td>\n",
       "      <td>2</td>\n",
       "      <td>2</td>\n",
       "      <td>2</td>\n",
       "      <td>99</td>\n",
       "      <td>1</td>\n",
       "      <td>2</td>\n",
       "    </tr>\n",
       "  </tbody>\n",
       "</table>\n",
       "</div>"
      ],
      "text/plain": [
       "       id  sex  patient_type entry_date date_symptoms   date_died  intubed  \\\n",
       "0  16169f    2             1 2020-04-05    2020-02-05  9999-99-99       97   \n",
       "1  1009bf    2             1 2020-03-19    2020-03-17  9999-99-99       97   \n",
       "2  167386    1             2 2020-06-04    2020-01-04  9999-99-99        2   \n",
       "3  0b5948    2             2 2020-04-17    2020-10-04  9999-99-99        2   \n",
       "4  0d01b5    1             2 2020-04-13    2020-04-13  22-04-2020        2   \n",
       "\n",
       "   pneumonia  age  pregnancy  diabetes  copd  asthma  inmsupr  hypertension  \\\n",
       "0          2   27         97         2     2       2        2             2   \n",
       "1          2   24         97         2     2       2        2             2   \n",
       "2          2   54          2         2     2       2        2             2   \n",
       "3          1   30         97         2     2       2        2             2   \n",
       "4          2   60          2         1     2       2        2             1   \n",
       "\n",
       "   other_disease  cardiovascular  obesity  renal_chronic  tobacco  \\\n",
       "0              2               2        2              2        2   \n",
       "1              2               2        2              2        2   \n",
       "2              2               2        1              2        2   \n",
       "3              2               2        2              2        2   \n",
       "4              2               1        2              2        2   \n",
       "\n",
       "   contact_other_covid  covid_res  icu  \n",
       "0                    2          1   97  \n",
       "1                   99          1   97  \n",
       "2                   99          1    2  \n",
       "3                   99          1    2  \n",
       "4                   99          1    2  "
      ]
     },
     "execution_count": 2,
     "metadata": {},
     "output_type": "execute_result"
    }
   ],
   "source": [
    "df = pd.read_csv('../input/covid19-patient-precondition-dataset/covid.csv', parse_dates=[3, 4])\n",
    "df.head()"
   ]
  },
  {
   "cell_type": "code",
   "execution_count": 3,
   "id": "64468159",
   "metadata": {
    "execution": {
     "iopub.execute_input": "2022-07-29T07:35:09.673495Z",
     "iopub.status.busy": "2022-07-29T07:35:09.672446Z",
     "iopub.status.idle": "2022-07-29T07:35:09.680212Z",
     "shell.execute_reply": "2022-07-29T07:35:09.678804Z"
    },
    "papermill": {
     "duration": 0.027977,
     "end_time": "2022-07-29T07:35:09.682720",
     "exception": false,
     "start_time": "2022-07-29T07:35:09.654743",
     "status": "completed"
    },
    "tags": []
   },
   "outputs": [
    {
     "data": {
      "text/plain": [
       "(566602, 23)"
      ]
     },
     "execution_count": 3,
     "metadata": {},
     "output_type": "execute_result"
    }
   ],
   "source": [
    "df.shape"
   ]
  },
  {
   "cell_type": "markdown",
   "id": "2420dad4",
   "metadata": {
    "papermill": {
     "duration": 0.015451,
     "end_time": "2022-07-29T07:35:09.714000",
     "exception": false,
     "start_time": "2022-07-29T07:35:09.698549",
     "status": "completed"
    },
    "tags": []
   },
   "source": [
    "Check if there are any null values present in the dataset"
   ]
  },
  {
   "cell_type": "code",
   "execution_count": 4,
   "id": "709ff2b0",
   "metadata": {
    "execution": {
     "iopub.execute_input": "2022-07-29T07:35:09.746251Z",
     "iopub.status.busy": "2022-07-29T07:35:09.745215Z",
     "iopub.status.idle": "2022-07-29T07:35:09.891189Z",
     "shell.execute_reply": "2022-07-29T07:35:09.890053Z"
    },
    "papermill": {
     "duration": 0.164602,
     "end_time": "2022-07-29T07:35:09.893635",
     "exception": false,
     "start_time": "2022-07-29T07:35:09.729033",
     "status": "completed"
    },
    "tags": []
   },
   "outputs": [
    {
     "data": {
      "text/plain": [
       "False"
      ]
     },
     "execution_count": 4,
     "metadata": {},
     "output_type": "execute_result"
    }
   ],
   "source": [
    "df.isnull().sum().any()"
   ]
  },
  {
   "cell_type": "code",
   "execution_count": 5,
   "id": "64f44684",
   "metadata": {
    "execution": {
     "iopub.execute_input": "2022-07-29T07:35:09.925734Z",
     "iopub.status.busy": "2022-07-29T07:35:09.925229Z",
     "iopub.status.idle": "2022-07-29T07:35:10.092893Z",
     "shell.execute_reply": "2022-07-29T07:35:10.091260Z"
    },
    "papermill": {
     "duration": 0.187808,
     "end_time": "2022-07-29T07:35:10.096287",
     "exception": false,
     "start_time": "2022-07-29T07:35:09.908479",
     "status": "completed"
    },
    "tags": []
   },
   "outputs": [
    {
     "name": "stdout",
     "output_type": "stream",
     "text": [
      "<class 'pandas.core.frame.DataFrame'>\n",
      "RangeIndex: 566602 entries, 0 to 566601\n",
      "Data columns (total 23 columns):\n",
      " #   Column               Non-Null Count   Dtype         \n",
      "---  ------               --------------   -----         \n",
      " 0   id                   566602 non-null  object        \n",
      " 1   sex                  566602 non-null  int64         \n",
      " 2   patient_type         566602 non-null  int64         \n",
      " 3   entry_date           566602 non-null  datetime64[ns]\n",
      " 4   date_symptoms        566602 non-null  datetime64[ns]\n",
      " 5   date_died            566602 non-null  object        \n",
      " 6   intubed              566602 non-null  int64         \n",
      " 7   pneumonia            566602 non-null  int64         \n",
      " 8   age                  566602 non-null  int64         \n",
      " 9   pregnancy            566602 non-null  int64         \n",
      " 10  diabetes             566602 non-null  int64         \n",
      " 11  copd                 566602 non-null  int64         \n",
      " 12  asthma               566602 non-null  int64         \n",
      " 13  inmsupr              566602 non-null  int64         \n",
      " 14  hypertension         566602 non-null  int64         \n",
      " 15  other_disease        566602 non-null  int64         \n",
      " 16  cardiovascular       566602 non-null  int64         \n",
      " 17  obesity              566602 non-null  int64         \n",
      " 18  renal_chronic        566602 non-null  int64         \n",
      " 19  tobacco              566602 non-null  int64         \n",
      " 20  contact_other_covid  566602 non-null  int64         \n",
      " 21  covid_res            566602 non-null  int64         \n",
      " 22  icu                  566602 non-null  int64         \n",
      "dtypes: datetime64[ns](2), int64(19), object(2)\n",
      "memory usage: 99.4+ MB\n"
     ]
    }
   ],
   "source": [
    "df.info()"
   ]
  },
  {
   "cell_type": "code",
   "execution_count": 6,
   "id": "6b298cf6",
   "metadata": {
    "execution": {
     "iopub.execute_input": "2022-07-29T07:35:10.129618Z",
     "iopub.status.busy": "2022-07-29T07:35:10.129185Z",
     "iopub.status.idle": "2022-07-29T07:35:10.476123Z",
     "shell.execute_reply": "2022-07-29T07:35:10.474930Z"
    },
    "papermill": {
     "duration": 0.36648,
     "end_time": "2022-07-29T07:35:10.478925",
     "exception": false,
     "start_time": "2022-07-29T07:35:10.112445",
     "status": "completed"
    },
    "tags": []
   },
   "outputs": [
    {
     "data": {
      "text/html": [
       "<div>\n",
       "<style scoped>\n",
       "    .dataframe tbody tr th:only-of-type {\n",
       "        vertical-align: middle;\n",
       "    }\n",
       "\n",
       "    .dataframe tbody tr th {\n",
       "        vertical-align: top;\n",
       "    }\n",
       "\n",
       "    .dataframe thead th {\n",
       "        text-align: right;\n",
       "    }\n",
       "</style>\n",
       "<table border=\"1\" class=\"dataframe\">\n",
       "  <thead>\n",
       "    <tr style=\"text-align: right;\">\n",
       "      <th></th>\n",
       "      <th>sex</th>\n",
       "      <th>patient_type</th>\n",
       "      <th>intubed</th>\n",
       "      <th>pneumonia</th>\n",
       "      <th>age</th>\n",
       "      <th>pregnancy</th>\n",
       "      <th>diabetes</th>\n",
       "      <th>copd</th>\n",
       "      <th>asthma</th>\n",
       "      <th>inmsupr</th>\n",
       "      <th>hypertension</th>\n",
       "      <th>other_disease</th>\n",
       "      <th>cardiovascular</th>\n",
       "      <th>obesity</th>\n",
       "      <th>renal_chronic</th>\n",
       "      <th>tobacco</th>\n",
       "      <th>contact_other_covid</th>\n",
       "      <th>covid_res</th>\n",
       "      <th>icu</th>\n",
       "    </tr>\n",
       "  </thead>\n",
       "  <tbody>\n",
       "    <tr>\n",
       "      <th>count</th>\n",
       "      <td>566602.000000</td>\n",
       "      <td>566602.000000</td>\n",
       "      <td>566602.000000</td>\n",
       "      <td>566602.000000</td>\n",
       "      <td>566602.000000</td>\n",
       "      <td>566602.000000</td>\n",
       "      <td>566602.000000</td>\n",
       "      <td>566602.000000</td>\n",
       "      <td>566602.000000</td>\n",
       "      <td>566602.000000</td>\n",
       "      <td>566602.000000</td>\n",
       "      <td>566602.000000</td>\n",
       "      <td>566602.000000</td>\n",
       "      <td>566602.000000</td>\n",
       "      <td>566602.000000</td>\n",
       "      <td>566602.000000</td>\n",
       "      <td>566602.000000</td>\n",
       "      <td>566602.000000</td>\n",
       "      <td>566602.000000</td>\n",
       "    </tr>\n",
       "    <tr>\n",
       "      <th>mean</th>\n",
       "      <td>1.506726</td>\n",
       "      <td>1.215165</td>\n",
       "      <td>76.562952</td>\n",
       "      <td>1.846262</td>\n",
       "      <td>42.622483</td>\n",
       "      <td>50.400692</td>\n",
       "      <td>2.210633</td>\n",
       "      <td>2.280221</td>\n",
       "      <td>2.265029</td>\n",
       "      <td>2.319628</td>\n",
       "      <td>2.145774</td>\n",
       "      <td>2.410030</td>\n",
       "      <td>2.286157</td>\n",
       "      <td>2.138905</td>\n",
       "      <td>2.283765</td>\n",
       "      <td>2.238360</td>\n",
       "      <td>31.573034</td>\n",
       "      <td>1.728651</td>\n",
       "      <td>76.562864</td>\n",
       "    </tr>\n",
       "    <tr>\n",
       "      <th>std</th>\n",
       "      <td>0.499955</td>\n",
       "      <td>0.410937</td>\n",
       "      <td>39.058676</td>\n",
       "      <td>0.560939</td>\n",
       "      <td>16.659973</td>\n",
       "      <td>47.501579</td>\n",
       "      <td>5.683523</td>\n",
       "      <td>5.327832</td>\n",
       "      <td>5.334658</td>\n",
       "      <td>5.667381</td>\n",
       "      <td>5.459866</td>\n",
       "      <td>6.489959</td>\n",
       "      <td>5.438405</td>\n",
       "      <td>5.395578</td>\n",
       "      <td>5.393232</td>\n",
       "      <td>5.571901</td>\n",
       "      <td>45.082123</td>\n",
       "      <td>0.658710</td>\n",
       "      <td>39.059060</td>\n",
       "    </tr>\n",
       "    <tr>\n",
       "      <th>min</th>\n",
       "      <td>1.000000</td>\n",
       "      <td>1.000000</td>\n",
       "      <td>1.000000</td>\n",
       "      <td>1.000000</td>\n",
       "      <td>0.000000</td>\n",
       "      <td>1.000000</td>\n",
       "      <td>1.000000</td>\n",
       "      <td>1.000000</td>\n",
       "      <td>1.000000</td>\n",
       "      <td>1.000000</td>\n",
       "      <td>1.000000</td>\n",
       "      <td>1.000000</td>\n",
       "      <td>1.000000</td>\n",
       "      <td>1.000000</td>\n",
       "      <td>1.000000</td>\n",
       "      <td>1.000000</td>\n",
       "      <td>1.000000</td>\n",
       "      <td>1.000000</td>\n",
       "      <td>1.000000</td>\n",
       "    </tr>\n",
       "    <tr>\n",
       "      <th>25%</th>\n",
       "      <td>1.000000</td>\n",
       "      <td>1.000000</td>\n",
       "      <td>97.000000</td>\n",
       "      <td>2.000000</td>\n",
       "      <td>31.000000</td>\n",
       "      <td>2.000000</td>\n",
       "      <td>2.000000</td>\n",
       "      <td>2.000000</td>\n",
       "      <td>2.000000</td>\n",
       "      <td>2.000000</td>\n",
       "      <td>2.000000</td>\n",
       "      <td>2.000000</td>\n",
       "      <td>2.000000</td>\n",
       "      <td>2.000000</td>\n",
       "      <td>2.000000</td>\n",
       "      <td>2.000000</td>\n",
       "      <td>1.000000</td>\n",
       "      <td>1.000000</td>\n",
       "      <td>97.000000</td>\n",
       "    </tr>\n",
       "    <tr>\n",
       "      <th>50%</th>\n",
       "      <td>2.000000</td>\n",
       "      <td>1.000000</td>\n",
       "      <td>97.000000</td>\n",
       "      <td>2.000000</td>\n",
       "      <td>41.000000</td>\n",
       "      <td>97.000000</td>\n",
       "      <td>2.000000</td>\n",
       "      <td>2.000000</td>\n",
       "      <td>2.000000</td>\n",
       "      <td>2.000000</td>\n",
       "      <td>2.000000</td>\n",
       "      <td>2.000000</td>\n",
       "      <td>2.000000</td>\n",
       "      <td>2.000000</td>\n",
       "      <td>2.000000</td>\n",
       "      <td>2.000000</td>\n",
       "      <td>2.000000</td>\n",
       "      <td>2.000000</td>\n",
       "      <td>97.000000</td>\n",
       "    </tr>\n",
       "    <tr>\n",
       "      <th>75%</th>\n",
       "      <td>2.000000</td>\n",
       "      <td>1.000000</td>\n",
       "      <td>97.000000</td>\n",
       "      <td>2.000000</td>\n",
       "      <td>53.000000</td>\n",
       "      <td>97.000000</td>\n",
       "      <td>2.000000</td>\n",
       "      <td>2.000000</td>\n",
       "      <td>2.000000</td>\n",
       "      <td>2.000000</td>\n",
       "      <td>2.000000</td>\n",
       "      <td>2.000000</td>\n",
       "      <td>2.000000</td>\n",
       "      <td>2.000000</td>\n",
       "      <td>2.000000</td>\n",
       "      <td>2.000000</td>\n",
       "      <td>99.000000</td>\n",
       "      <td>2.000000</td>\n",
       "      <td>97.000000</td>\n",
       "    </tr>\n",
       "    <tr>\n",
       "      <th>max</th>\n",
       "      <td>2.000000</td>\n",
       "      <td>2.000000</td>\n",
       "      <td>99.000000</td>\n",
       "      <td>99.000000</td>\n",
       "      <td>120.000000</td>\n",
       "      <td>98.000000</td>\n",
       "      <td>98.000000</td>\n",
       "      <td>98.000000</td>\n",
       "      <td>98.000000</td>\n",
       "      <td>98.000000</td>\n",
       "      <td>98.000000</td>\n",
       "      <td>98.000000</td>\n",
       "      <td>98.000000</td>\n",
       "      <td>98.000000</td>\n",
       "      <td>98.000000</td>\n",
       "      <td>98.000000</td>\n",
       "      <td>99.000000</td>\n",
       "      <td>3.000000</td>\n",
       "      <td>99.000000</td>\n",
       "    </tr>\n",
       "  </tbody>\n",
       "</table>\n",
       "</div>"
      ],
      "text/plain": [
       "                 sex   patient_type        intubed      pneumonia  \\\n",
       "count  566602.000000  566602.000000  566602.000000  566602.000000   \n",
       "mean        1.506726       1.215165      76.562952       1.846262   \n",
       "std         0.499955       0.410937      39.058676       0.560939   \n",
       "min         1.000000       1.000000       1.000000       1.000000   \n",
       "25%         1.000000       1.000000      97.000000       2.000000   \n",
       "50%         2.000000       1.000000      97.000000       2.000000   \n",
       "75%         2.000000       1.000000      97.000000       2.000000   \n",
       "max         2.000000       2.000000      99.000000      99.000000   \n",
       "\n",
       "                 age      pregnancy       diabetes           copd  \\\n",
       "count  566602.000000  566602.000000  566602.000000  566602.000000   \n",
       "mean       42.622483      50.400692       2.210633       2.280221   \n",
       "std        16.659973      47.501579       5.683523       5.327832   \n",
       "min         0.000000       1.000000       1.000000       1.000000   \n",
       "25%        31.000000       2.000000       2.000000       2.000000   \n",
       "50%        41.000000      97.000000       2.000000       2.000000   \n",
       "75%        53.000000      97.000000       2.000000       2.000000   \n",
       "max       120.000000      98.000000      98.000000      98.000000   \n",
       "\n",
       "              asthma        inmsupr   hypertension  other_disease  \\\n",
       "count  566602.000000  566602.000000  566602.000000  566602.000000   \n",
       "mean        2.265029       2.319628       2.145774       2.410030   \n",
       "std         5.334658       5.667381       5.459866       6.489959   \n",
       "min         1.000000       1.000000       1.000000       1.000000   \n",
       "25%         2.000000       2.000000       2.000000       2.000000   \n",
       "50%         2.000000       2.000000       2.000000       2.000000   \n",
       "75%         2.000000       2.000000       2.000000       2.000000   \n",
       "max        98.000000      98.000000      98.000000      98.000000   \n",
       "\n",
       "       cardiovascular        obesity  renal_chronic        tobacco  \\\n",
       "count   566602.000000  566602.000000  566602.000000  566602.000000   \n",
       "mean         2.286157       2.138905       2.283765       2.238360   \n",
       "std          5.438405       5.395578       5.393232       5.571901   \n",
       "min          1.000000       1.000000       1.000000       1.000000   \n",
       "25%          2.000000       2.000000       2.000000       2.000000   \n",
       "50%          2.000000       2.000000       2.000000       2.000000   \n",
       "75%          2.000000       2.000000       2.000000       2.000000   \n",
       "max         98.000000      98.000000      98.000000      98.000000   \n",
       "\n",
       "       contact_other_covid      covid_res            icu  \n",
       "count        566602.000000  566602.000000  566602.000000  \n",
       "mean             31.573034       1.728651      76.562864  \n",
       "std              45.082123       0.658710      39.059060  \n",
       "min               1.000000       1.000000       1.000000  \n",
       "25%               1.000000       1.000000      97.000000  \n",
       "50%               2.000000       2.000000      97.000000  \n",
       "75%              99.000000       2.000000      97.000000  \n",
       "max              99.000000       3.000000      99.000000  "
      ]
     },
     "execution_count": 6,
     "metadata": {},
     "output_type": "execute_result"
    }
   ],
   "source": [
    "df.describe()"
   ]
  },
  {
   "cell_type": "code",
   "execution_count": 7,
   "id": "dc54a525",
   "metadata": {
    "execution": {
     "iopub.execute_input": "2022-07-29T07:35:10.517345Z",
     "iopub.status.busy": "2022-07-29T07:35:10.516921Z",
     "iopub.status.idle": "2022-07-29T07:35:12.478951Z",
     "shell.execute_reply": "2022-07-29T07:35:12.477648Z"
    },
    "papermill": {
     "duration": 1.985352,
     "end_time": "2022-07-29T07:35:12.481873",
     "exception": false,
     "start_time": "2022-07-29T07:35:10.496521",
     "status": "completed"
    },
    "tags": []
   },
   "outputs": [
    {
     "data": {
      "text/plain": [
       "<AxesSubplot:>"
      ]
     },
     "execution_count": 7,
     "metadata": {},
     "output_type": "execute_result"
    },
    {
     "data": {
      "image/png": "[encoded data removed]",
      "text/plain": [
       "<Figure size 432x288 with 2 Axes>"
      ]
     },
     "metadata": {
      "needs_background": "light"
     },
     "output_type": "display_data"
    }
   ],
   "source": [
    "mask = np.triu(np.ones_like(df.corr(), dtype=bool))\n",
    "sns.heatmap(df.corr(), mask=mask)"
   ]
  },
  {
   "cell_type": "markdown",
   "id": "68dcb0b2",
   "metadata": {
    "papermill": {
     "duration": 0.016338,
     "end_time": "2022-07-29T07:35:12.519329",
     "exception": false,
     "start_time": "2022-07-29T07:35:12.502991",
     "status": "completed"
    },
    "tags": []
   },
   "source": [
    "Creating a new feature from the difference of the date the patient started showing symptoms and the date that same patient when to a healthcare center."
   ]
  },
  {
   "cell_type": "code",
   "execution_count": 8,
   "id": "b5ccbca8",
   "metadata": {
    "execution": {
     "iopub.execute_input": "2022-07-29T07:35:12.555389Z",
     "iopub.status.busy": "2022-07-29T07:35:12.554504Z",
     "iopub.status.idle": "2022-07-29T07:35:12.580455Z",
     "shell.execute_reply": "2022-07-29T07:35:12.579118Z"
    },
    "papermill": {
     "duration": 0.046664,
     "end_time": "2022-07-29T07:35:12.583214",
     "exception": false,
     "start_time": "2022-07-29T07:35:12.536550",
     "status": "completed"
    },
    "tags": []
   },
   "outputs": [],
   "source": [
    "df[\"symp_duration\"] = (df.entry_date - df.date_symptoms).dt.days"
   ]
  },
  {
   "cell_type": "code",
   "execution_count": 9,
   "id": "2559054f",
   "metadata": {
    "execution": {
     "iopub.execute_input": "2022-07-29T07:35:12.620072Z",
     "iopub.status.busy": "2022-07-29T07:35:12.619159Z",
     "iopub.status.idle": "2022-07-29T07:35:12.634244Z",
     "shell.execute_reply": "2022-07-29T07:35:12.632948Z"
    },
    "papermill": {
     "duration": 0.036092,
     "end_time": "2022-07-29T07:35:12.636744",
     "exception": false,
     "start_time": "2022-07-29T07:35:12.600652",
     "status": "completed"
    },
    "tags": []
   },
   "outputs": [
    {
     "data": {
      "text/plain": [
       "array([  60,    2,  152, -170,    0,    9,    3,    4,    5,   91,   10,\n",
       "        121,  304,    1,  -21,  -84,    6, -137,    7, -111,    8,   41,\n",
       "        153, -235,  -24,   92,  -82,   31,  -25,  -51, -202, -172, -248,\n",
       "       -112, -174, -144,  -49,  -20,   61,  182,   30, -205, -233,  122,\n",
       "        184,  -77,   14,  -19, -113,   42, -230,  -52,  214, -204,  -26,\n",
       "        -80,  -83,  -53,  101,  305,  -86,   43, -106,  245,  -75,  104,\n",
       "         62, -171, -201,  -79, -169,  -27, -101,  190,  243,  -55, -168,\n",
       "       -109,   12, -115,  244,   70,  213,  -22,   97,   40,  -81, -110,\n",
       "         36, -176,  123,   90,  -76,  100,   73, -193, -138,   67,  -78,\n",
       "       -197, -232, -140,  -23, -231,   69,  129, -105, -143, -141,   37,\n",
       "       -173, -175,   11, -200,  160,  -42,   66,   68,   29,  -17,   98,\n",
       "        -85, -114,  132,  -18, -146,   71,  -12,  -47,  102, -142,   18,\n",
       "        -56, -108, -226,  183,  275, -234,   13, -228, -116, -206,   99,\n",
       "       -199, -139,  -15,  -48, -227,   39,  151,  -45, -145, -133,   38,\n",
       "         16, -203, -136,   15, -183,  158,   96,  -54,  -46,   72,   74,\n",
       "       -195,  335,  128,  274, -164,   26, -167,  131,  -16, -135, -103,\n",
       "        -44,  130,  189, -151, -198, -104,  227, -107,   75,  161,  159,\n",
       "        -74,  -71,  -99, -134,  192,  162,  -50,  220,   76,   47,  191,\n",
       "        -37,  106,   27,  -14,   17,   35,   33,   32,  133,   44, -165,\n",
       "         19,  -43,  103,   49,   65, -102, -166,   24,   81, -225, -221,\n",
       "        170,  171,  221,   95,  218, -194,  222, -224,  -87, -163,  188,\n",
       "       -260,  219,   45, -196,  163, -132,  127,   34,  -72,  126,   28,\n",
       "       -162,  137,  134, -255, -229, -257,   20, -192,  110, -261,  109,\n",
       "         77,  -73,  157, -131,  168,  195,  135,   48, -258,  248,  193,\n",
       "       -223, -130, -121,   78,  165, -222,  111,  167,   23, -265,   80,\n",
       "       -259,  164,  -38,  -70,  146,   22, -264,   21,  -11,   52, -263,\n",
       "         83, -244,  -69,  169, -127,  205, -256,  187, -212,  145, -273,\n",
       "        251,  -68,   46,  249,  204,  105,  199,   64,   82, -189,   25,\n",
       "        107,  114,  236,  -13, -247, -160,  226,  -30,   -9,   -7,  194,\n",
       "         50, -304, -254,   51, -252,  172, -303,  -36,  225, -181,  -98,\n",
       "       -262,  196,  -91,   93,  138, -191,  -60,  -89, -219,  154,  108,\n",
       "        -59, -253, -129,  198,  141,  -40, -120, -321, -293, -290, -322,\n",
       "       -320, -323,   63,   85, -292, -291, -159, -242,  139, -186,   86,\n",
       "       -286,  280,   -8,  143,  281, -157, -251,  125,   53, -128,  252,\n",
       "        250, -274,  -41,  185,   89,  -29, -334,  197,  112,  217, -218,\n",
       "       -289,  -90, -100,  -28,  228,  260, -187, -249, -156,  215,  -57,\n",
       "        116, -287, -250, -190, -188, -243,   54, -288,  -39,  -66, -161,\n",
       "        206, -150,  -65,  278,  261,  156,  140, -213, -122,  -97, -316,\n",
       "        115,  -10,  166,  173,  144,   84,   79,  234])"
      ]
     },
     "execution_count": 9,
     "metadata": {},
     "output_type": "execute_result"
    }
   ],
   "source": [
    "df.symp_duration.unique()"
   ]
  },
  {
   "cell_type": "markdown",
   "id": "4f1267e7",
   "metadata": {
    "papermill": {
     "duration": 0.01716,
     "end_time": "2022-07-29T07:35:12.671823",
     "exception": false,
     "start_time": "2022-07-29T07:35:12.654663",
     "status": "completed"
    },
    "tags": []
   },
   "source": [
    "* The negative values are for those patients who started showing symptoms after being admitted to the health center.\n",
    "* The positive values are for those patients who started showing symptoms before being admitted.\n",
    "* Zero values are for those patients that started showing symptoms the same day they were admitted."
   ]
  },
  {
   "cell_type": "markdown",
   "id": "bdc2edb3",
   "metadata": {
    "papermill": {
     "duration": 0.016907,
     "end_time": "2022-07-29T07:35:12.707197",
     "exception": false,
     "start_time": "2022-07-29T07:35:12.690290",
     "status": "completed"
    },
    "tags": []
   },
   "source": [
    "Now let's normalize it!"
   ]
  },
  {
   "cell_type": "code",
   "execution_count": 10,
   "id": "4a7f0396",
   "metadata": {
    "execution": {
     "iopub.execute_input": "2022-07-29T07:35:12.742683Z",
     "iopub.status.busy": "2022-07-29T07:35:12.742289Z",
     "iopub.status.idle": "2022-07-29T07:35:12.830078Z",
     "shell.execute_reply": "2022-07-29T07:35:12.828810Z"
    },
    "papermill": {
     "duration": 0.108446,
     "end_time": "2022-07-29T07:35:12.832542",
     "exception": false,
     "start_time": "2022-07-29T07:35:12.724096",
     "status": "completed"
    },
    "tags": []
   },
   "outputs": [
    {
     "data": {
      "text/plain": [
       "-334"
      ]
     },
     "execution_count": 10,
     "metadata": {},
     "output_type": "execute_result"
    }
   ],
   "source": [
    "min(df.symp_duration)"
   ]
  },
  {
   "cell_type": "code",
   "execution_count": 11,
   "id": "8ac33fdd",
   "metadata": {
    "execution": {
     "iopub.execute_input": "2022-07-29T07:35:12.869727Z",
     "iopub.status.busy": "2022-07-29T07:35:12.869352Z",
     "iopub.status.idle": "2022-07-29T07:35:13.242198Z",
     "shell.execute_reply": "2022-07-29T07:35:13.241016Z"
    },
    "papermill": {
     "duration": 0.394723,
     "end_time": "2022-07-29T07:35:13.244723",
     "exception": false,
     "start_time": "2022-07-29T07:35:12.850000",
     "status": "completed"
    },
    "tags": []
   },
   "outputs": [
    {
     "data": {
      "text/plain": [
       "0         394\n",
       "1         336\n",
       "2         486\n",
       "3         164\n",
       "4         334\n",
       "         ... \n",
       "566597    403\n",
       "566598    364\n",
       "566599    464\n",
       "566600    336\n",
       "566601    334\n",
       "Name: symp_duration, Length: 566602, dtype: int64"
      ]
     },
     "execution_count": 11,
     "metadata": {},
     "output_type": "execute_result"
    }
   ],
   "source": [
    "df.symp_duration.apply(lambda x : x + 334)"
   ]
  },
  {
   "cell_type": "code",
   "execution_count": 12,
   "id": "86ea3c34",
   "metadata": {
    "execution": {
     "iopub.execute_input": "2022-07-29T07:35:13.281122Z",
     "iopub.status.busy": "2022-07-29T07:35:13.280709Z",
     "iopub.status.idle": "2022-07-29T07:35:14.227534Z",
     "shell.execute_reply": "2022-07-29T07:35:14.225636Z"
    },
    "papermill": {
     "duration": 0.968917,
     "end_time": "2022-07-29T07:35:14.230784",
     "exception": false,
     "start_time": "2022-07-29T07:35:13.261867",
     "status": "completed"
    },
    "tags": []
   },
   "outputs": [],
   "source": [
    "max_val = max(df.symp_duration)\n",
    "min_val = min(df.symp_duration)\n",
    "df[\"symp_duration\"] = df[\"symp_duration\"].apply(lambda x: round((max_val - x)/(max_val - min_val), 2))"
   ]
  },
  {
   "cell_type": "code",
   "execution_count": 13,
   "id": "b5dea3c7",
   "metadata": {
    "execution": {
     "iopub.execute_input": "2022-07-29T07:35:14.266680Z",
     "iopub.status.busy": "2022-07-29T07:35:14.266225Z",
     "iopub.status.idle": "2022-07-29T07:35:14.282751Z",
     "shell.execute_reply": "2022-07-29T07:35:14.281330Z"
    },
    "papermill": {
     "duration": 0.037448,
     "end_time": "2022-07-29T07:35:14.285326",
     "exception": false,
     "start_time": "2022-07-29T07:35:14.247878",
     "status": "completed"
    },
    "tags": []
   },
   "outputs": [
    {
     "data": {
      "text/plain": [
       "array([0.41, 0.5 , 0.27, 0.75, 0.49, 0.36, 0.32, 0.05, 0.53, 0.63, 0.71,\n",
       "       0.67, 0.44, 0.85, 0.54, 0.62, 0.45, 0.58, 0.8 , 0.76, 0.87, 0.72,\n",
       "       0.57, 0.23, 0.46, 0.81, 0.48, 0.84, 0.18, 0.35, 0.04, 0.66, 0.13,\n",
       "       0.61, 0.65, 0.22, 0.14, 0.4 , 0.37, 0.39, 0.79, 0.31, 0.26, 0.56,\n",
       "       0.3 , 0.52, 0.47, 0.09, 0.28, 0.7 , 0.77, 0.  , 0.73, 0.16, 0.21,\n",
       "       0.17, 0.43, 0.34, 0.38, 0.83, 0.25, 0.74, 0.89, 0.88, 0.68, 0.33,\n",
       "       0.9 , 0.42, 0.6 , 0.69, 0.19, 0.82, 0.91, 0.2 , 0.78, 0.15, 0.55,\n",
       "       0.51, 0.96, 0.24, 0.95, 0.64, 0.29, 0.59, 0.98, 0.94, 0.93, 0.86,\n",
       "       0.08, 0.12, 1.  , 0.11, 0.97])"
      ]
     },
     "execution_count": 13,
     "metadata": {},
     "output_type": "execute_result"
    }
   ],
   "source": [
    "df.symp_duration.unique()"
   ]
  },
  {
   "cell_type": "markdown",
   "id": "762880a6",
   "metadata": {
    "papermill": {
     "duration": 0.016866,
     "end_time": "2022-07-29T07:35:14.320094",
     "exception": false,
     "start_time": "2022-07-29T07:35:14.303228",
     "status": "completed"
    },
    "tags": []
   },
   "source": [
    "Now that we have extracted this useful information we no longer have a use for the `entry_date` and `date_symptoms` features."
   ]
  },
  {
   "cell_type": "code",
   "execution_count": 14,
   "id": "1c1cea16",
   "metadata": {
    "execution": {
     "iopub.execute_input": "2022-07-29T07:35:14.356120Z",
     "iopub.status.busy": "2022-07-29T07:35:14.355648Z",
     "iopub.status.idle": "2022-07-29T07:35:14.404698Z",
     "shell.execute_reply": "2022-07-29T07:35:14.403136Z"
    },
    "papermill": {
     "duration": 0.070576,
     "end_time": "2022-07-29T07:35:14.407617",
     "exception": false,
     "start_time": "2022-07-29T07:35:14.337041",
     "status": "completed"
    },
    "tags": []
   },
   "outputs": [],
   "source": [
    "df.drop([\"date_symptoms\", \"entry_date\"], axis=1, inplace=True)"
   ]
  },
  {
   "cell_type": "markdown",
   "id": "73618cc6",
   "metadata": {
    "papermill": {
     "duration": 0.017211,
     "end_time": "2022-07-29T07:35:14.442355",
     "exception": false,
     "start_time": "2022-07-29T07:35:14.425144",
     "status": "completed"
    },
    "tags": []
   },
   "source": [
    "Now we add a feature indicating whether patients died or not by using the `date_died` feature. The `date_died` feature will then be dropped."
   ]
  },
  {
   "cell_type": "code",
   "execution_count": 15,
   "id": "a7b38232",
   "metadata": {
    "execution": {
     "iopub.execute_input": "2022-07-29T07:35:14.479449Z",
     "iopub.status.busy": "2022-07-29T07:35:14.478935Z",
     "iopub.status.idle": "2022-07-29T07:35:14.980997Z",
     "shell.execute_reply": "2022-07-29T07:35:14.979751Z"
    },
    "papermill": {
     "duration": 0.524014,
     "end_time": "2022-07-29T07:35:14.983816",
     "exception": false,
     "start_time": "2022-07-29T07:35:14.459802",
     "status": "completed"
    },
    "tags": []
   },
   "outputs": [],
   "source": [
    "df[\"dead\"] = df[\"date_died\"].apply(lambda x: 0 if x == '9999-99-99' else 1)\n",
    "df.drop([\"date_died\"], axis=1, inplace=True)"
   ]
  },
  {
   "cell_type": "markdown",
   "id": "08b3dfbb",
   "metadata": {
    "papermill": {
     "duration": 0.017675,
     "end_time": "2022-07-29T07:35:15.018733",
     "exception": false,
     "start_time": "2022-07-29T07:35:15.001058",
     "status": "completed"
    },
    "tags": []
   },
   "source": [
    "Unfortunately for the efforts, the `dead` feature is not useful for our purposes."
   ]
  },
  {
   "cell_type": "code",
   "execution_count": 16,
   "id": "c08b27d2",
   "metadata": {
    "execution": {
     "iopub.execute_input": "2022-07-29T07:35:15.055122Z",
     "iopub.status.busy": "2022-07-29T07:35:15.054722Z",
     "iopub.status.idle": "2022-07-29T07:35:15.105704Z",
     "shell.execute_reply": "2022-07-29T07:35:15.104473Z"
    },
    "papermill": {
     "duration": 0.072654,
     "end_time": "2022-07-29T07:35:15.108705",
     "exception": false,
     "start_time": "2022-07-29T07:35:15.036051",
     "status": "completed"
    },
    "tags": []
   },
   "outputs": [],
   "source": [
    "df.drop([\"dead\"], axis=1, inplace=True)"
   ]
  },
  {
   "cell_type": "code",
   "execution_count": 17,
   "id": "57e332d5",
   "metadata": {
    "execution": {
     "iopub.execute_input": "2022-07-29T07:35:15.146185Z",
     "iopub.status.busy": "2022-07-29T07:35:15.145796Z",
     "iopub.status.idle": "2022-07-29T07:35:15.158847Z",
     "shell.execute_reply": "2022-07-29T07:35:15.157342Z"
    },
    "papermill": {
     "duration": 0.035408,
     "end_time": "2022-07-29T07:35:15.161314",
     "exception": false,
     "start_time": "2022-07-29T07:35:15.125906",
     "status": "completed"
    },
    "tags": []
   },
   "outputs": [
    {
     "data": {
      "text/plain": [
       "97    444689\n",
       "2     111676\n",
       "1      10112\n",
       "99       125\n",
       "Name: icu, dtype: int64"
      ]
     },
     "execution_count": 17,
     "metadata": {},
     "output_type": "execute_result"
    }
   ],
   "source": [
    "df.icu.value_counts()"
   ]
  },
  {
   "cell_type": "markdown",
   "id": "f72b1648",
   "metadata": {
    "papermill": {
     "duration": 0.01672,
     "end_time": "2022-07-29T07:35:15.196753",
     "exception": false,
     "start_time": "2022-07-29T07:35:15.180033",
     "status": "completed"
    },
    "tags": []
   },
   "source": [
    "The `icu` feature needs editing. It should be binarized and values indicating that the status is undecided will be removed."
   ]
  },
  {
   "cell_type": "code",
   "execution_count": 18,
   "id": "70ad30b0",
   "metadata": {
    "execution": {
     "iopub.execute_input": "2022-07-29T07:35:15.232625Z",
     "iopub.status.busy": "2022-07-29T07:35:15.232241Z",
     "iopub.status.idle": "2022-07-29T07:35:15.278491Z",
     "shell.execute_reply": "2022-07-29T07:35:15.277139Z"
    },
    "papermill": {
     "duration": 0.067394,
     "end_time": "2022-07-29T07:35:15.281242",
     "exception": false,
     "start_time": "2022-07-29T07:35:15.213848",
     "status": "completed"
    },
    "tags": []
   },
   "outputs": [
    {
     "data": {
      "text/plain": [
       "array([0, 1])"
      ]
     },
     "execution_count": 18,
     "metadata": {},
     "output_type": "execute_result"
    }
   ],
   "source": [
    "df.loc[df[\"icu\"]==2, \"icu\"] = 0\n",
    "df = df[df[\"icu\"]<2]\n",
    "df.icu.unique()"
   ]
  },
  {
   "cell_type": "code",
   "execution_count": 19,
   "id": "22a4bffb",
   "metadata": {
    "execution": {
     "iopub.execute_input": "2022-07-29T07:35:15.319159Z",
     "iopub.status.busy": "2022-07-29T07:35:15.318790Z",
     "iopub.status.idle": "2022-07-29T07:35:15.326121Z",
     "shell.execute_reply": "2022-07-29T07:35:15.324968Z"
    },
    "papermill": {
     "duration": 0.028832,
     "end_time": "2022-07-29T07:35:15.328470",
     "exception": false,
     "start_time": "2022-07-29T07:35:15.299638",
     "status": "completed"
    },
    "tags": []
   },
   "outputs": [
    {
     "data": {
      "text/plain": [
       "(121788, 21)"
      ]
     },
     "execution_count": 19,
     "metadata": {},
     "output_type": "execute_result"
    }
   ],
   "source": [
    "df.shape"
   ]
  },
  {
   "cell_type": "markdown",
   "id": "64cd53a7",
   "metadata": {
    "papermill": {
     "duration": 0.017124,
     "end_time": "2022-07-29T07:35:15.363555",
     "exception": false,
     "start_time": "2022-07-29T07:35:15.346431",
     "status": "completed"
    },
    "tags": []
   },
   "source": [
    "The same procedure should apply for those features with undecided values."
   ]
  },
  {
   "cell_type": "code",
   "execution_count": 20,
   "id": "d167c4c7",
   "metadata": {
    "execution": {
     "iopub.execute_input": "2022-07-29T07:35:15.402128Z",
     "iopub.status.busy": "2022-07-29T07:35:15.401771Z",
     "iopub.status.idle": "2022-07-29T07:35:15.442611Z",
     "shell.execute_reply": "2022-07-29T07:35:15.441553Z"
    },
    "papermill": {
     "duration": 0.063601,
     "end_time": "2022-07-29T07:35:15.445641",
     "exception": false,
     "start_time": "2022-07-29T07:35:15.382040",
     "status": "completed"
    },
    "tags": []
   },
   "outputs": [],
   "source": [
    "df.loc[df['patient_type']==2,'patient_type']=1\n",
    "df.loc[df['patient_type']==1,'patient_type']=0\n",
    "df.loc[df['sex']==2,'sex']=0\n",
    "df.loc[df['inmsupr']==2,'inmsupr']=0\n",
    "df.loc[df['pneumonia']==2,'pneumonia']=0\n",
    "df.loc[df['diabetes']==2,'diabetes']=0\n",
    "df.loc[df['asthma']==2,'asthma']=0\n",
    "df.loc[df['copd']==2,'copd']=0\n",
    "df.loc[df['hypertension']==2,'hypertension']=0\n",
    "df.loc[df['cardiovascular']==2,'cardiovascular']=0\n",
    "df.loc[df['renal_chronic']==2,'renal_chronic']=0\n",
    "df.loc[df['obesity']==2,'obesity']=0\n",
    "df.loc[df['tobacco']==2,'tobacco']=0\n",
    "df.loc[df['intubed']==2,'intubed']=0\n",
    "df.loc[df['icu']==2,'icu']=0\n",
    "df.loc[df['covid_res']==2,'covid_res']=0"
   ]
  },
  {
   "cell_type": "markdown",
   "id": "3dfa0ef7",
   "metadata": {
    "papermill": {
     "duration": 0.017144,
     "end_time": "2022-07-29T07:35:15.480849",
     "exception": false,
     "start_time": "2022-07-29T07:35:15.463705",
     "status": "completed"
    },
    "tags": []
   },
   "source": [
    "Now we have to learn which features are useful for our prediction. Let's analyze the count values of the following:"
   ]
  },
  {
   "cell_type": "code",
   "execution_count": 21,
   "id": "558edb65",
   "metadata": {
    "execution": {
     "iopub.execute_input": "2022-07-29T07:35:15.520214Z",
     "iopub.status.busy": "2022-07-29T07:35:15.519530Z",
     "iopub.status.idle": "2022-07-29T07:35:15.524685Z",
     "shell.execute_reply": "2022-07-29T07:35:15.523632Z"
    },
    "papermill": {
     "duration": 0.029718,
     "end_time": "2022-07-29T07:35:15.528458",
     "exception": false,
     "start_time": "2022-07-29T07:35:15.498740",
     "status": "completed"
    },
    "tags": []
   },
   "outputs": [],
   "source": [
    "feature_count = [\"patient_type\",\"intubed\",\"hypertension\",\"other_disease\",\"cardiovascular\",\"obesity\",\"renal_chronic\",\"tobacco\",\"contact_other_covid\",\"covid_res\",\"inmsupr\",\"asthma\",\"copd\",\"diabetes\",\"pregnancy\",\"pneumonia\"]"
   ]
  },
  {
   "cell_type": "code",
   "execution_count": 22,
   "id": "7da4a41b",
   "metadata": {
    "execution": {
     "iopub.execute_input": "2022-07-29T07:35:15.567008Z",
     "iopub.status.busy": "2022-07-29T07:35:15.566225Z",
     "iopub.status.idle": "2022-07-29T07:35:15.596955Z",
     "shell.execute_reply": "2022-07-29T07:35:15.594809Z"
    },
    "papermill": {
     "duration": 0.053984,
     "end_time": "2022-07-29T07:35:15.601051",
     "exception": false,
     "start_time": "2022-07-29T07:35:15.547067",
     "status": "completed"
    },
    "tags": []
   },
   "outputs": [
    {
     "name": "stdout",
     "output_type": "stream",
     "text": [
      "patient_type: 0    121788\n",
      "Name: patient_type, dtype: int64\n",
      "\n",
      "intubed: 0    111823\n",
      "1      9965\n",
      "Name: intubed, dtype: int64\n",
      "\n",
      "hypertension: 0     80877\n",
      "1     40302\n",
      "98      609\n",
      "Name: hypertension, dtype: int64\n",
      "\n",
      "other_disease: 2     113466\n",
      "1       7282\n",
      "98      1040\n",
      "Name: other_disease, dtype: int64\n",
      "\n",
      "cardiovascular: 0     114842\n",
      "1       6300\n",
      "98       646\n",
      "Name: cardiovascular, dtype: int64\n",
      "\n",
      "obesity: 0     96060\n",
      "1     25094\n",
      "98      634\n",
      "Name: obesity, dtype: int64\n",
      "\n",
      "renal_chronic: 0     113945\n",
      "1       7234\n",
      "98       609\n",
      "Name: renal_chronic, dtype: int64\n",
      "\n",
      "tobacco: 0     110413\n",
      "1      10736\n",
      "98       639\n",
      "Name: tobacco, dtype: int64\n",
      "\n",
      "contact_other_covid: 99    62090\n",
      "2     42452\n",
      "1     17246\n",
      "Name: contact_other_covid, dtype: int64\n",
      "\n",
      "covid_res: 1    68210\n",
      "0    39213\n",
      "3    14365\n",
      "Name: covid_res, dtype: int64\n",
      "\n",
      "inmsupr: 0     116388\n",
      "1       4722\n",
      "98       678\n",
      "Name: inmsupr, dtype: int64\n",
      "\n",
      "asthma: 0     118062\n",
      "1       3141\n",
      "98       585\n",
      "Name: asthma, dtype: int64\n",
      "\n",
      "copd: 0     115713\n",
      "1       5491\n",
      "98       584\n",
      "Name: copd, dtype: int64\n",
      "\n",
      "diabetes: 0     85674\n",
      "1     35445\n",
      "98      669\n",
      "Name: diabetes, dtype: int64\n",
      "\n",
      "pregnancy: 97    72999\n",
      "2     47554\n",
      "1      1069\n",
      "98      166\n",
      "Name: pregnancy, dtype: int64\n",
      "\n",
      "pneumonia: 1    73688\n",
      "0    48100\n",
      "Name: pneumonia, dtype: int64\n",
      "\n"
     ]
    }
   ],
   "source": [
    "for feature in feature_count:\n",
    "    print (f\"{feature}: {df[feature].value_counts()}\\n\")"
   ]
  },
  {
   "cell_type": "code",
   "execution_count": 23,
   "id": "7a7774a5",
   "metadata": {
    "execution": {
     "iopub.execute_input": "2022-07-29T07:35:15.641281Z",
     "iopub.status.busy": "2022-07-29T07:35:15.640056Z",
     "iopub.status.idle": "2022-07-29T07:35:16.408525Z",
     "shell.execute_reply": "2022-07-29T07:35:16.406981Z"
    },
    "papermill": {
     "duration": 0.791607,
     "end_time": "2022-07-29T07:35:16.411614",
     "exception": false,
     "start_time": "2022-07-29T07:35:15.620007",
     "status": "completed"
    },
    "tags": []
   },
   "outputs": [
    {
     "data": {
      "text/plain": [
       "<AxesSubplot:>"
      ]
     },
     "execution_count": 23,
     "metadata": {},
     "output_type": "execute_result"
    },
    {
     "data": {
      "image/png": "[encoded data removed]",
      "text/plain": [
       "<Figure size 432x288 with 2 Axes>"
      ]
     },
     "metadata": {
      "needs_background": "light"
     },
     "output_type": "display_data"
    }
   ],
   "source": [
    "mask = np.triu(np.ones_like(df.corr(), dtype=bool))\n",
    "sns.heatmap(df.corr(), mask=mask)"
   ]
  },
  {
   "cell_type": "code",
   "execution_count": 24,
   "id": "4bef6801",
   "metadata": {
    "execution": {
     "iopub.execute_input": "2022-07-29T07:35:16.452156Z",
     "iopub.status.busy": "2022-07-29T07:35:16.451229Z",
     "iopub.status.idle": "2022-07-29T07:35:16.467459Z",
     "shell.execute_reply": "2022-07-29T07:35:16.466249Z"
    },
    "papermill": {
     "duration": 0.039806,
     "end_time": "2022-07-29T07:35:16.470218",
     "exception": false,
     "start_time": "2022-07-29T07:35:16.430412",
     "status": "completed"
    },
    "tags": []
   },
   "outputs": [],
   "source": [
    "df.drop([\"patient_type\",\"other_disease\",\"contact_other_covid\",\"pregnancy\",\"hypertension\"], axis=1, inplace=True)"
   ]
  },
  {
   "cell_type": "code",
   "execution_count": 25,
   "id": "e9f38f20",
   "metadata": {
    "execution": {
     "iopub.execute_input": "2022-07-29T07:35:16.510511Z",
     "iopub.status.busy": "2022-07-29T07:35:16.510114Z",
     "iopub.status.idle": "2022-07-29T07:35:16.515926Z",
     "shell.execute_reply": "2022-07-29T07:35:16.515014Z"
    },
    "papermill": {
     "duration": 0.02832,
     "end_time": "2022-07-29T07:35:16.518042",
     "exception": false,
     "start_time": "2022-07-29T07:35:16.489722",
     "status": "completed"
    },
    "tags": []
   },
   "outputs": [
    {
     "data": {
      "text/plain": [
       "(121788, 16)"
      ]
     },
     "execution_count": 25,
     "metadata": {},
     "output_type": "execute_result"
    }
   ],
   "source": [
    "df.shape"
   ]
  },
  {
   "cell_type": "code",
   "execution_count": 26,
   "id": "806dd83f",
   "metadata": {
    "execution": {
     "iopub.execute_input": "2022-07-29T07:35:16.558116Z",
     "iopub.status.busy": "2022-07-29T07:35:16.557379Z",
     "iopub.status.idle": "2022-07-29T07:35:16.685789Z",
     "shell.execute_reply": "2022-07-29T07:35:16.684815Z"
    },
    "papermill": {
     "duration": 0.15169,
     "end_time": "2022-07-29T07:35:16.688414",
     "exception": false,
     "start_time": "2022-07-29T07:35:16.536724",
     "status": "completed"
    },
    "tags": []
   },
   "outputs": [],
   "source": [
    "df = df[df[\"intubed\"]<2]\n",
    "df = df[df[\"cardiovascular\"]<2]\n",
    "df = df[df[\"obesity\"]<2]\n",
    "df = df[df[\"renal_chronic\"]<2]\n",
    "df = df[df[\"tobacco\"]<2]\n",
    "df = df[df[\"covid_res\"]<2]\n",
    "df = df[df[\"inmsupr\"]<2]\n",
    "df = df[df[\"asthma\"]<2]\n",
    "df = df[df[\"copd\"]<2]\n",
    "df = df[df[\"diabetes\"]<2]\n",
    "df = df[df[\"pneumonia\"]<2]"
   ]
  },
  {
   "cell_type": "code",
   "execution_count": 27,
   "id": "e1626a6b",
   "metadata": {
    "execution": {
     "iopub.execute_input": "2022-07-29T07:35:16.729395Z",
     "iopub.status.busy": "2022-07-29T07:35:16.728810Z",
     "iopub.status.idle": "2022-07-29T07:35:16.734524Z",
     "shell.execute_reply": "2022-07-29T07:35:16.733733Z"
    },
    "papermill": {
     "duration": 0.029079,
     "end_time": "2022-07-29T07:35:16.736756",
     "exception": false,
     "start_time": "2022-07-29T07:35:16.707677",
     "status": "completed"
    },
    "tags": []
   },
   "outputs": [
    {
     "data": {
      "text/plain": [
       "(106298, 16)"
      ]
     },
     "execution_count": 27,
     "metadata": {},
     "output_type": "execute_result"
    }
   ],
   "source": [
    "df.reset_index(drop=True, inplace=True)\n",
    "df.shape"
   ]
  },
  {
   "cell_type": "code",
   "execution_count": 28,
   "id": "c08148b0",
   "metadata": {
    "execution": {
     "iopub.execute_input": "2022-07-29T07:35:16.777851Z",
     "iopub.status.busy": "2022-07-29T07:35:16.777157Z",
     "iopub.status.idle": "2022-07-29T07:35:16.792731Z",
     "shell.execute_reply": "2022-07-29T07:35:16.791829Z"
    },
    "papermill": {
     "duration": 0.039389,
     "end_time": "2022-07-29T07:35:16.794862",
     "exception": false,
     "start_time": "2022-07-29T07:35:16.755473",
     "status": "completed"
    },
    "tags": []
   },
   "outputs": [
    {
     "data": {
      "text/html": [
       "<div>\n",
       "<style scoped>\n",
       "    .dataframe tbody tr th:only-of-type {\n",
       "        vertical-align: middle;\n",
       "    }\n",
       "\n",
       "    .dataframe tbody tr th {\n",
       "        vertical-align: top;\n",
       "    }\n",
       "\n",
       "    .dataframe thead th {\n",
       "        text-align: right;\n",
       "    }\n",
       "</style>\n",
       "<table border=\"1\" class=\"dataframe\">\n",
       "  <thead>\n",
       "    <tr style=\"text-align: right;\">\n",
       "      <th></th>\n",
       "      <th>id</th>\n",
       "      <th>sex</th>\n",
       "      <th>intubed</th>\n",
       "      <th>pneumonia</th>\n",
       "      <th>age</th>\n",
       "      <th>diabetes</th>\n",
       "      <th>copd</th>\n",
       "      <th>asthma</th>\n",
       "      <th>inmsupr</th>\n",
       "      <th>cardiovascular</th>\n",
       "      <th>obesity</th>\n",
       "      <th>renal_chronic</th>\n",
       "      <th>tobacco</th>\n",
       "      <th>covid_res</th>\n",
       "      <th>icu</th>\n",
       "      <th>symp_duration</th>\n",
       "    </tr>\n",
       "  </thead>\n",
       "  <tbody>\n",
       "    <tr>\n",
       "      <th>0</th>\n",
       "      <td>167386</td>\n",
       "      <td>1</td>\n",
       "      <td>0</td>\n",
       "      <td>0</td>\n",
       "      <td>54</td>\n",
       "      <td>0</td>\n",
       "      <td>0</td>\n",
       "      <td>0</td>\n",
       "      <td>0</td>\n",
       "      <td>0</td>\n",
       "      <td>1</td>\n",
       "      <td>0</td>\n",
       "      <td>0</td>\n",
       "      <td>1</td>\n",
       "      <td>0</td>\n",
       "      <td>0.27</td>\n",
       "    </tr>\n",
       "    <tr>\n",
       "      <th>1</th>\n",
       "      <td>0b5948</td>\n",
       "      <td>0</td>\n",
       "      <td>0</td>\n",
       "      <td>1</td>\n",
       "      <td>30</td>\n",
       "      <td>0</td>\n",
       "      <td>0</td>\n",
       "      <td>0</td>\n",
       "      <td>0</td>\n",
       "      <td>0</td>\n",
       "      <td>0</td>\n",
       "      <td>0</td>\n",
       "      <td>0</td>\n",
       "      <td>1</td>\n",
       "      <td>0</td>\n",
       "      <td>0.75</td>\n",
       "    </tr>\n",
       "    <tr>\n",
       "      <th>2</th>\n",
       "      <td>0d01b5</td>\n",
       "      <td>1</td>\n",
       "      <td>0</td>\n",
       "      <td>0</td>\n",
       "      <td>60</td>\n",
       "      <td>1</td>\n",
       "      <td>0</td>\n",
       "      <td>0</td>\n",
       "      <td>0</td>\n",
       "      <td>1</td>\n",
       "      <td>0</td>\n",
       "      <td>0</td>\n",
       "      <td>0</td>\n",
       "      <td>1</td>\n",
       "      <td>0</td>\n",
       "      <td>0.50</td>\n",
       "    </tr>\n",
       "    <tr>\n",
       "      <th>3</th>\n",
       "      <td>1beec8</td>\n",
       "      <td>0</td>\n",
       "      <td>0</td>\n",
       "      <td>1</td>\n",
       "      <td>47</td>\n",
       "      <td>1</td>\n",
       "      <td>0</td>\n",
       "      <td>0</td>\n",
       "      <td>0</td>\n",
       "      <td>0</td>\n",
       "      <td>0</td>\n",
       "      <td>0</td>\n",
       "      <td>0</td>\n",
       "      <td>1</td>\n",
       "      <td>1</td>\n",
       "      <td>0.50</td>\n",
       "    </tr>\n",
       "    <tr>\n",
       "      <th>4</th>\n",
       "      <td>1.75E+56</td>\n",
       "      <td>0</td>\n",
       "      <td>0</td>\n",
       "      <td>0</td>\n",
       "      <td>63</td>\n",
       "      <td>0</td>\n",
       "      <td>0</td>\n",
       "      <td>0</td>\n",
       "      <td>0</td>\n",
       "      <td>0</td>\n",
       "      <td>0</td>\n",
       "      <td>0</td>\n",
       "      <td>0</td>\n",
       "      <td>1</td>\n",
       "      <td>0</td>\n",
       "      <td>0.49</td>\n",
       "    </tr>\n",
       "  </tbody>\n",
       "</table>\n",
       "</div>"
      ],
      "text/plain": [
       "         id  sex  intubed  pneumonia  age  diabetes  copd  asthma  inmsupr  \\\n",
       "0    167386    1        0          0   54         0     0       0        0   \n",
       "1    0b5948    0        0          1   30         0     0       0        0   \n",
       "2    0d01b5    1        0          0   60         1     0       0        0   \n",
       "3    1beec8    0        0          1   47         1     0       0        0   \n",
       "4  1.75E+56    0        0          0   63         0     0       0        0   \n",
       "\n",
       "   cardiovascular  obesity  renal_chronic  tobacco  covid_res  icu  \\\n",
       "0               0        1              0        0          1    0   \n",
       "1               0        0              0        0          1    0   \n",
       "2               1        0              0        0          1    0   \n",
       "3               0        0              0        0          1    1   \n",
       "4               0        0              0        0          1    0   \n",
       "\n",
       "   symp_duration  \n",
       "0           0.27  \n",
       "1           0.75  \n",
       "2           0.50  \n",
       "3           0.50  \n",
       "4           0.49  "
      ]
     },
     "execution_count": 28,
     "metadata": {},
     "output_type": "execute_result"
    }
   ],
   "source": [
    "df.head()"
   ]
  },
  {
   "cell_type": "markdown",
   "id": "61c44017",
   "metadata": {
    "papermill": {
     "duration": 0.018947,
     "end_time": "2022-07-29T07:35:16.833537",
     "exception": false,
     "start_time": "2022-07-29T07:35:16.814590",
     "status": "completed"
    },
    "tags": []
   },
   "source": [
    "### **Splitting Data to Train and Test**"
   ]
  },
  {
   "cell_type": "code",
   "execution_count": 29,
   "id": "d6b6e639",
   "metadata": {
    "execution": {
     "iopub.execute_input": "2022-07-29T07:35:16.873245Z",
     "iopub.status.busy": "2022-07-29T07:35:16.872445Z",
     "iopub.status.idle": "2022-07-29T07:35:16.881715Z",
     "shell.execute_reply": "2022-07-29T07:35:16.880740Z"
    },
    "papermill": {
     "duration": 0.032297,
     "end_time": "2022-07-29T07:35:16.884312",
     "exception": false,
     "start_time": "2022-07-29T07:35:16.852015",
     "status": "completed"
    },
    "tags": []
   },
   "outputs": [],
   "source": [
    "X = df.drop([\"id\", \"icu\"],axis=1)\n",
    "Y = df[\"icu\"]"
   ]
  },
  {
   "cell_type": "code",
   "execution_count": 30,
   "id": "4b48bb44",
   "metadata": {
    "execution": {
     "iopub.execute_input": "2022-07-29T07:35:16.925071Z",
     "iopub.status.busy": "2022-07-29T07:35:16.923799Z",
     "iopub.status.idle": "2022-07-29T07:35:16.939597Z",
     "shell.execute_reply": "2022-07-29T07:35:16.938765Z"
    },
    "papermill": {
     "duration": 0.038707,
     "end_time": "2022-07-29T07:35:16.941955",
     "exception": false,
     "start_time": "2022-07-29T07:35:16.903248",
     "status": "completed"
    },
    "tags": []
   },
   "outputs": [
    {
     "data": {
      "text/html": [
       "<div>\n",
       "<style scoped>\n",
       "    .dataframe tbody tr th:only-of-type {\n",
       "        vertical-align: middle;\n",
       "    }\n",
       "\n",
       "    .dataframe tbody tr th {\n",
       "        vertical-align: top;\n",
       "    }\n",
       "\n",
       "    .dataframe thead th {\n",
       "        text-align: right;\n",
       "    }\n",
       "</style>\n",
       "<table border=\"1\" class=\"dataframe\">\n",
       "  <thead>\n",
       "    <tr style=\"text-align: right;\">\n",
       "      <th></th>\n",
       "      <th>sex</th>\n",
       "      <th>intubed</th>\n",
       "      <th>pneumonia</th>\n",
       "      <th>age</th>\n",
       "      <th>diabetes</th>\n",
       "      <th>copd</th>\n",
       "      <th>asthma</th>\n",
       "      <th>inmsupr</th>\n",
       "      <th>cardiovascular</th>\n",
       "      <th>obesity</th>\n",
       "      <th>renal_chronic</th>\n",
       "      <th>tobacco</th>\n",
       "      <th>covid_res</th>\n",
       "      <th>symp_duration</th>\n",
       "    </tr>\n",
       "  </thead>\n",
       "  <tbody>\n",
       "    <tr>\n",
       "      <th>0</th>\n",
       "      <td>1</td>\n",
       "      <td>0</td>\n",
       "      <td>0</td>\n",
       "      <td>54</td>\n",
       "      <td>0</td>\n",
       "      <td>0</td>\n",
       "      <td>0</td>\n",
       "      <td>0</td>\n",
       "      <td>0</td>\n",
       "      <td>1</td>\n",
       "      <td>0</td>\n",
       "      <td>0</td>\n",
       "      <td>1</td>\n",
       "      <td>0.27</td>\n",
       "    </tr>\n",
       "    <tr>\n",
       "      <th>1</th>\n",
       "      <td>0</td>\n",
       "      <td>0</td>\n",
       "      <td>1</td>\n",
       "      <td>30</td>\n",
       "      <td>0</td>\n",
       "      <td>0</td>\n",
       "      <td>0</td>\n",
       "      <td>0</td>\n",
       "      <td>0</td>\n",
       "      <td>0</td>\n",
       "      <td>0</td>\n",
       "      <td>0</td>\n",
       "      <td>1</td>\n",
       "      <td>0.75</td>\n",
       "    </tr>\n",
       "    <tr>\n",
       "      <th>2</th>\n",
       "      <td>1</td>\n",
       "      <td>0</td>\n",
       "      <td>0</td>\n",
       "      <td>60</td>\n",
       "      <td>1</td>\n",
       "      <td>0</td>\n",
       "      <td>0</td>\n",
       "      <td>0</td>\n",
       "      <td>1</td>\n",
       "      <td>0</td>\n",
       "      <td>0</td>\n",
       "      <td>0</td>\n",
       "      <td>1</td>\n",
       "      <td>0.50</td>\n",
       "    </tr>\n",
       "    <tr>\n",
       "      <th>3</th>\n",
       "      <td>0</td>\n",
       "      <td>0</td>\n",
       "      <td>1</td>\n",
       "      <td>47</td>\n",
       "      <td>1</td>\n",
       "      <td>0</td>\n",
       "      <td>0</td>\n",
       "      <td>0</td>\n",
       "      <td>0</td>\n",
       "      <td>0</td>\n",
       "      <td>0</td>\n",
       "      <td>0</td>\n",
       "      <td>1</td>\n",
       "      <td>0.50</td>\n",
       "    </tr>\n",
       "    <tr>\n",
       "      <th>4</th>\n",
       "      <td>0</td>\n",
       "      <td>0</td>\n",
       "      <td>0</td>\n",
       "      <td>63</td>\n",
       "      <td>0</td>\n",
       "      <td>0</td>\n",
       "      <td>0</td>\n",
       "      <td>0</td>\n",
       "      <td>0</td>\n",
       "      <td>0</td>\n",
       "      <td>0</td>\n",
       "      <td>0</td>\n",
       "      <td>1</td>\n",
       "      <td>0.49</td>\n",
       "    </tr>\n",
       "  </tbody>\n",
       "</table>\n",
       "</div>"
      ],
      "text/plain": [
       "   sex  intubed  pneumonia  age  diabetes  copd  asthma  inmsupr  \\\n",
       "0    1        0          0   54         0     0       0        0   \n",
       "1    0        0          1   30         0     0       0        0   \n",
       "2    1        0          0   60         1     0       0        0   \n",
       "3    0        0          1   47         1     0       0        0   \n",
       "4    0        0          0   63         0     0       0        0   \n",
       "\n",
       "   cardiovascular  obesity  renal_chronic  tobacco  covid_res  symp_duration  \n",
       "0               0        1              0        0          1           0.27  \n",
       "1               0        0              0        0          1           0.75  \n",
       "2               1        0              0        0          1           0.50  \n",
       "3               0        0              0        0          1           0.50  \n",
       "4               0        0              0        0          1           0.49  "
      ]
     },
     "execution_count": 30,
     "metadata": {},
     "output_type": "execute_result"
    }
   ],
   "source": [
    "X.head()"
   ]
  },
  {
   "cell_type": "code",
   "execution_count": 31,
   "id": "6058a356",
   "metadata": {
    "execution": {
     "iopub.execute_input": "2022-07-29T07:35:16.985393Z",
     "iopub.status.busy": "2022-07-29T07:35:16.984382Z",
     "iopub.status.idle": "2022-07-29T07:35:16.993157Z",
     "shell.execute_reply": "2022-07-29T07:35:16.992321Z"
    },
    "papermill": {
     "duration": 0.034166,
     "end_time": "2022-07-29T07:35:16.996328",
     "exception": false,
     "start_time": "2022-07-29T07:35:16.962162",
     "status": "completed"
    },
    "tags": []
   },
   "outputs": [
    {
     "data": {
      "text/plain": [
       "0    97489\n",
       "1     8809\n",
       "Name: icu, dtype: int64"
      ]
     },
     "execution_count": 31,
     "metadata": {},
     "output_type": "execute_result"
    }
   ],
   "source": [
    "Y.value_counts()"
   ]
  },
  {
   "cell_type": "markdown",
   "id": "264598d8",
   "metadata": {
    "papermill": {
     "duration": 0.020026,
     "end_time": "2022-07-29T07:35:17.038886",
     "exception": false,
     "start_time": "2022-07-29T07:35:17.018860",
     "status": "completed"
    },
    "tags": []
   },
   "source": [
    "Clearly the data is imbalanced! We will takes steps in balancing it using **Synthetic Minority Oversampling Technique(SMOTE)**"
   ]
  },
  {
   "cell_type": "code",
   "execution_count": 32,
   "id": "5f6632cd",
   "metadata": {
    "execution": {
     "iopub.execute_input": "2022-07-29T07:35:17.081212Z",
     "iopub.status.busy": "2022-07-29T07:35:17.080467Z",
     "iopub.status.idle": "2022-07-29T07:35:17.334987Z",
     "shell.execute_reply": "2022-07-29T07:35:17.333779Z"
    },
    "papermill": {
     "duration": 0.278329,
     "end_time": "2022-07-29T07:35:17.337862",
     "exception": false,
     "start_time": "2022-07-29T07:35:17.059533",
     "status": "completed"
    },
    "tags": []
   },
   "outputs": [],
   "source": [
    "smote = SMOTE(random_state=42)\n",
    "x_bal, y_bal = smote.fit_resample(X, Y)"
   ]
  },
  {
   "cell_type": "code",
   "execution_count": 33,
   "id": "497551b3",
   "metadata": {
    "execution": {
     "iopub.execute_input": "2022-07-29T07:35:17.379719Z",
     "iopub.status.busy": "2022-07-29T07:35:17.378760Z",
     "iopub.status.idle": "2022-07-29T07:35:17.388233Z",
     "shell.execute_reply": "2022-07-29T07:35:17.386971Z"
    },
    "papermill": {
     "duration": 0.033011,
     "end_time": "2022-07-29T07:35:17.390921",
     "exception": false,
     "start_time": "2022-07-29T07:35:17.357910",
     "status": "completed"
    },
    "tags": []
   },
   "outputs": [
    {
     "data": {
      "text/plain": [
       "0    97489\n",
       "1    97489\n",
       "Name: icu, dtype: int64"
      ]
     },
     "execution_count": 33,
     "metadata": {},
     "output_type": "execute_result"
    }
   ],
   "source": [
    "y_bal.value_counts()"
   ]
  },
  {
   "cell_type": "markdown",
   "id": "1c00dfcf",
   "metadata": {
    "papermill": {
     "duration": 0.020503,
     "end_time": "2022-07-29T07:35:17.431494",
     "exception": false,
     "start_time": "2022-07-29T07:35:17.410991",
     "status": "completed"
    },
    "tags": []
   },
   "source": [
    "Now that the data is balanced, let's move on to train, test split and model fitting and evaluation."
   ]
  },
  {
   "cell_type": "code",
   "execution_count": 34,
   "id": "b1b7e3c3",
   "metadata": {
    "execution": {
     "iopub.execute_input": "2022-07-29T07:35:17.473902Z",
     "iopub.status.busy": "2022-07-29T07:35:17.473490Z",
     "iopub.status.idle": "2022-07-29T07:35:17.531997Z",
     "shell.execute_reply": "2022-07-29T07:35:17.530728Z"
    },
    "papermill": {
     "duration": 0.083257,
     "end_time": "2022-07-29T07:35:17.534903",
     "exception": false,
     "start_time": "2022-07-29T07:35:17.451646",
     "status": "completed"
    },
    "tags": []
   },
   "outputs": [],
   "source": [
    "x_train, x_test, y_train, y_test = train_test_split(x_bal, y_bal, test_size=0.2, random_state=0)"
   ]
  },
  {
   "cell_type": "markdown",
   "id": "4d9ea3b4",
   "metadata": {
    "papermill": {
     "duration": 0.019252,
     "end_time": "2022-07-29T07:35:17.574027",
     "exception": false,
     "start_time": "2022-07-29T07:35:17.554775",
     "status": "completed"
    },
    "tags": []
   },
   "source": [
    "**Standardizing the data**"
   ]
  },
  {
   "cell_type": "code",
   "execution_count": 35,
   "id": "181cdfd9",
   "metadata": {
    "execution": {
     "iopub.execute_input": "2022-07-29T07:35:17.615441Z",
     "iopub.status.busy": "2022-07-29T07:35:17.615054Z",
     "iopub.status.idle": "2022-07-29T07:35:17.668642Z",
     "shell.execute_reply": "2022-07-29T07:35:17.667320Z"
    },
    "papermill": {
     "duration": 0.077184,
     "end_time": "2022-07-29T07:35:17.671495",
     "exception": false,
     "start_time": "2022-07-29T07:35:17.594311",
     "status": "completed"
    },
    "tags": []
   },
   "outputs": [],
   "source": [
    "scaler = StandardScaler()\n",
    "x_train_scaled = scaler.fit_transform(x_train)\n",
    "x_test_scaled = scaler.transform(x_test)"
   ]
  },
  {
   "cell_type": "markdown",
   "id": "062e4b27",
   "metadata": {
    "papermill": {
     "duration": 0.019923,
     "end_time": "2022-07-29T07:35:17.710894",
     "exception": false,
     "start_time": "2022-07-29T07:35:17.690971",
     "status": "completed"
    },
    "tags": []
   },
   "source": [
    "### **Model Fitting and Evaluation**"
   ]
  },
  {
   "cell_type": "code",
   "execution_count": 36,
   "id": "5e12df6d",
   "metadata": {
    "execution": {
     "iopub.execute_input": "2022-07-29T07:35:17.753019Z",
     "iopub.status.busy": "2022-07-29T07:35:17.752637Z",
     "iopub.status.idle": "2022-07-29T07:35:17.759848Z",
     "shell.execute_reply": "2022-07-29T07:35:17.758590Z"
    },
    "papermill": {
     "duration": 0.030999,
     "end_time": "2022-07-29T07:35:17.762702",
     "exception": false,
     "start_time": "2022-07-29T07:35:17.731703",
     "status": "completed"
    },
    "tags": []
   },
   "outputs": [],
   "source": [
    "def Model(model):\n",
    "    \n",
    "    model.fit(x_train, y_train)\n",
    "    results = model.predict(x_test)\n",
    "    \n",
    "    print(\"Train Accuracy = {}\".format(accuracy_score(y_train, model.predict(x_train))))\n",
    "    print(\"Test Accuracy = {}\".format(accuracy_score(y_test, results)))\n",
    "    print(\"Confusion Matrix\")\n",
    "    print(confusion_matrix(y_test, results))\n",
    "    print(\"Classification Report\")\n",
    "    print(classification_report(y_test, results))"
   ]
  },
  {
   "cell_type": "code",
   "execution_count": 37,
   "id": "b0516384",
   "metadata": {
    "execution": {
     "iopub.execute_input": "2022-07-29T07:35:17.805213Z",
     "iopub.status.busy": "2022-07-29T07:35:17.804778Z",
     "iopub.status.idle": "2022-07-29T07:35:20.233103Z",
     "shell.execute_reply": "2022-07-29T07:35:20.231330Z"
    },
    "papermill": {
     "duration": 2.45303,
     "end_time": "2022-07-29T07:35:20.236583",
     "exception": false,
     "start_time": "2022-07-29T07:35:17.783553",
     "status": "completed"
    },
    "tags": []
   },
   "outputs": [
    {
     "name": "stdout",
     "output_type": "stream",
     "text": [
      "Train Accuracy = 0.7222564142016387\n",
      "Test Accuracy = 0.7230485177966971\n",
      "Confusion Matrix\n",
      "[[17167  2203]\n",
      " [ 8597 11029]]\n",
      "Classification Report\n",
      "              precision    recall  f1-score   support\n",
      "\n",
      "           0       0.67      0.89      0.76     19370\n",
      "           1       0.83      0.56      0.67     19626\n",
      "\n",
      "    accuracy                           0.72     38996\n",
      "   macro avg       0.75      0.72      0.72     38996\n",
      "weighted avg       0.75      0.72      0.72     38996\n",
      "\n"
     ]
    }
   ],
   "source": [
    "Model(LogisticRegression())"
   ]
  },
  {
   "cell_type": "code",
   "execution_count": 38,
   "id": "f5184f19",
   "metadata": {
    "execution": {
     "iopub.execute_input": "2022-07-29T07:35:20.278319Z",
     "iopub.status.busy": "2022-07-29T07:35:20.277631Z",
     "iopub.status.idle": "2022-07-29T07:35:46.148838Z",
     "shell.execute_reply": "2022-07-29T07:35:46.146976Z"
    },
    "papermill": {
     "duration": 25.894943,
     "end_time": "2022-07-29T07:35:46.151451",
     "exception": false,
     "start_time": "2022-07-29T07:35:20.256508",
     "status": "completed"
    },
    "tags": []
   },
   "outputs": [
    {
     "name": "stdout",
     "output_type": "stream",
     "text": [
      "Train Accuracy = 0.9259209395955944\n",
      "Test Accuracy = 0.8383167504359421\n",
      "Confusion Matrix\n",
      "[[16280  3090]\n",
      " [ 3215 16411]]\n",
      "Classification Report\n",
      "              precision    recall  f1-score   support\n",
      "\n",
      "           0       0.84      0.84      0.84     19370\n",
      "           1       0.84      0.84      0.84     19626\n",
      "\n",
      "    accuracy                           0.84     38996\n",
      "   macro avg       0.84      0.84      0.84     38996\n",
      "weighted avg       0.84      0.84      0.84     38996\n",
      "\n"
     ]
    }
   ],
   "source": [
    "Model(KNeighborsClassifier(n_neighbors=5,weights='distance',p=1,metric='minkowski'))"
   ]
  },
  {
   "cell_type": "code",
   "execution_count": 39,
   "id": "5a42ad66",
   "metadata": {
    "execution": {
     "iopub.execute_input": "2022-07-29T07:35:46.193841Z",
     "iopub.status.busy": "2022-07-29T07:35:46.193027Z",
     "iopub.status.idle": "2022-07-29T07:35:54.818773Z",
     "shell.execute_reply": "2022-07-29T07:35:54.817221Z"
    },
    "papermill": {
     "duration": 8.650594,
     "end_time": "2022-07-29T07:35:54.822011",
     "exception": false,
     "start_time": "2022-07-29T07:35:46.171417",
     "status": "completed"
    },
    "tags": []
   },
   "outputs": [
    {
     "name": "stdout",
     "output_type": "stream",
     "text": [
      "Train Accuracy = 0.8842815196625252\n",
      "Test Accuracy = 0.8814493794235306\n",
      "Confusion Matrix\n",
      "[[18420   950]\n",
      " [ 3673 15953]]\n",
      "Classification Report\n",
      "              precision    recall  f1-score   support\n",
      "\n",
      "           0       0.83      0.95      0.89     19370\n",
      "           1       0.94      0.81      0.87     19626\n",
      "\n",
      "    accuracy                           0.88     38996\n",
      "   macro avg       0.89      0.88      0.88     38996\n",
      "weighted avg       0.89      0.88      0.88     38996\n",
      "\n"
     ]
    }
   ],
   "source": [
    "Model(XGBClassifier())"
   ]
  },
  {
   "cell_type": "code",
   "execution_count": 40,
   "id": "f95d88a2",
   "metadata": {
    "execution": {
     "iopub.execute_input": "2022-07-29T07:35:54.865331Z",
     "iopub.status.busy": "2022-07-29T07:35:54.864899Z",
     "iopub.status.idle": "2022-07-29T07:36:53.405656Z",
     "shell.execute_reply": "2022-07-29T07:36:53.404346Z"
    },
    "papermill": {
     "duration": 58.585656,
     "end_time": "2022-07-29T07:36:53.428253",
     "exception": false,
     "start_time": "2022-07-29T07:35:54.842597",
     "status": "completed"
    },
    "tags": []
   },
   "outputs": [
    {
     "name": "stdout",
     "output_type": "stream",
     "text": [
      "Train Accuracy = 0.8813773384108423\n",
      "Test Accuracy = 0.8812955174889733\n",
      "Confusion Matrix\n",
      "[[18357  1013]\n",
      " [ 3616 16010]]\n",
      "Classification Report\n",
      "              precision    recall  f1-score   support\n",
      "\n",
      "           0       0.84      0.95      0.89     19370\n",
      "           1       0.94      0.82      0.87     19626\n",
      "\n",
      "    accuracy                           0.88     38996\n",
      "   macro avg       0.89      0.88      0.88     38996\n",
      "weighted avg       0.89      0.88      0.88     38996\n",
      "\n"
     ]
    }
   ],
   "source": [
    "Model(GradientBoostingClassifier(max_features='auto', loss='deviance',learning_rate=0.3, \n",
    "                                   max_depth=8,min_samples_leaf=3,min_samples_split=0.1, n_estimators=400, subsample=0.4))"
   ]
  },
  {
   "cell_type": "code",
   "execution_count": 41,
   "id": "54fd899b",
   "metadata": {
    "execution": {
     "iopub.execute_input": "2022-07-29T07:36:53.471449Z",
     "iopub.status.busy": "2022-07-29T07:36:53.470470Z",
     "iopub.status.idle": "2022-07-29T07:37:15.445654Z",
     "shell.execute_reply": "2022-07-29T07:37:15.443825Z"
    },
    "papermill": {
     "duration": 22.000089,
     "end_time": "2022-07-29T07:37:15.448436",
     "exception": false,
     "start_time": "2022-07-29T07:36:53.448347",
     "status": "completed"
    },
    "tags": []
   },
   "outputs": [
    {
     "name": "stdout",
     "output_type": "stream",
     "text": [
      "Train Accuracy = 0.9331461322460284\n",
      "Test Accuracy = 0.8767565904195302\n",
      "Confusion Matrix\n",
      "[[17125  2245]\n",
      " [ 2561 17065]]\n",
      "Classification Report\n",
      "              precision    recall  f1-score   support\n",
      "\n",
      "           0       0.87      0.88      0.88     19370\n",
      "           1       0.88      0.87      0.88     19626\n",
      "\n",
      "    accuracy                           0.88     38996\n",
      "   macro avg       0.88      0.88      0.88     38996\n",
      "weighted avg       0.88      0.88      0.88     38996\n",
      "\n"
     ]
    }
   ],
   "source": [
    "Model(RandomForestClassifier())"
   ]
  },
  {
   "cell_type": "markdown",
   "id": "668ccb33",
   "metadata": {
    "papermill": {
     "duration": 0.019987,
     "end_time": "2022-07-29T07:37:15.489119",
     "exception": false,
     "start_time": "2022-07-29T07:37:15.469132",
     "status": "completed"
    },
    "tags": []
   },
   "source": [
    "## **The XGBClassifier model perfomed best with a training accuracy of 88.42 %, and a testing accuracy of 88.14 %**"
   ]
  }
 ],
 "metadata": {
  "kernelspec": {
   "display_name": "Python 3",
   "language": "python",
   "name": "python3"
  },
  "language_info": {
   "codemirror_mode": {
    "name": "ipython",
    "version": 3
   },
   "file_extension": ".py",
   "mimetype": "text/x-python",
   "name": "python",
   "nbconvert_exporter": "python",
   "pygments_lexer": "ipython3",
   "version": "3.7.12"
  },
  "papermill": {
   "default_parameters": {},
   "duration": 142.631025,
   "end_time": "2022-07-29T07:37:16.433964",
   "environment_variables": {},
   "exception": null,
   "input_path": "__notebook__.ipynb",
   "output_path": "__notebook__.ipynb",
   "parameters": {},
   "start_time": "2022-07-29T07:34:53.802939",
   "version": "2.3.4"
  }
 },
 "nbformat": 4,
 "nbformat_minor": 5
}
